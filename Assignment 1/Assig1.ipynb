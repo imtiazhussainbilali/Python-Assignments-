{
 "cells": [
  {
   "cell_type": "code",
   "execution_count": 1,
   "metadata": {},
   "outputs": [
    {
     "name": "stdout",
     "output_type": "stream",
     "text": [
      "Twinkle, twinkle, little star,\n",
      "      How I wonder what you are!\n",
      "            Up above the world so high,\n",
      "            Like a diamond in the sky.\n",
      "Twinkle, twinkle, little star,\n",
      "      How I wonder what you are  \n"
     ]
    }
   ],
   "source": [
    "#Q1\n",
    "print(\"Twinkle, twinkle, little star,\\n      How I wonder what you are!\\n            Up above the world so high,\\n            Like a diamond in the sky.\\nTwinkle, twinkle, little star,\\n      How I wonder what you are  \")\n"
   ]
  },
  {
   "cell_type": "code",
   "execution_count": 2,
   "metadata": {},
   "outputs": [
    {
     "name": "stdout",
     "output_type": "stream",
     "text": [
      " Python 3.7\n"
     ]
    }
   ],
   "source": [
    "#Q2\n",
    "print(\" Python 3.7\")"
   ]
  },
  {
   "cell_type": "code",
   "execution_count": 3,
   "metadata": {},
   "outputs": [
    {
     "name": "stdout",
     "output_type": "stream",
     "text": [
      "Current Date 2019-11-03  Current Time 07:17:22\n"
     ]
    }
   ],
   "source": [
    "#Q3\n",
    "import datetime\n",
    "now=datetime.datetime.now()\n",
    "print (now.strftime(\"Current Date %Y-%m-%d  Current Time %H:%M:%S\"))"
   ]
  },
  {
   "cell_type": "code",
   "execution_count": 4,
   "metadata": {},
   "outputs": [
    {
     "name": "stdout",
     "output_type": "stream",
     "text": [
      "Enter radius of the circle  3\n",
      "Area of the circle is \n",
      "28.278\n"
     ]
    }
   ],
   "source": [
    "#Q4\n",
    "radius = input(\"Enter radius of the circle  \") #always get input as string\n",
    "radius = int (radius)      #convert string into integer\n",
    "Area = 3.142 * radius**2\n",
    "print (\"Area of the circle is \")\n",
    "print (Area)"
   ]
  },
  {
   "cell_type": "code",
   "execution_count": 5,
   "metadata": {},
   "outputs": [
    {
     "name": "stdout",
     "output_type": "stream",
     "text": [
      "Enter your first name  Imtiaz\n",
      "Enter your last name  Hussain\n",
      "Hussain Imtiaz\n"
     ]
    }
   ],
   "source": [
    "#Q5\n",
    "fn = input(\"Enter your first name  \") \n",
    "ln = input(\"Enter your last name  \") \n",
    "print(ln+\" \"+fn)"
   ]
  },
  {
   "cell_type": "code",
   "execution_count": 6,
   "metadata": {},
   "outputs": [
    {
     "name": "stdout",
     "output_type": "stream",
     "text": [
      "Enter your first number  2\n",
      "Enter your second number  3\n",
      "5\n"
     ]
    }
   ],
   "source": [
    "#Q6\n",
    "a = input(\"Enter your first number  \") \n",
    "b = input(\"Enter your second number  \") \n",
    "A = int (a)\n",
    "B = int (b)\n",
    "c = A+B\n",
    "print(c)"
   ]
  },
  {
   "cell_type": "code",
   "execution_count": null,
   "metadata": {},
   "outputs": [],
   "source": []
  }
 ],
 "metadata": {
  "kernelspec": {
   "display_name": "Python 3",
   "language": "python",
   "name": "python3"
  },
  "language_info": {
   "codemirror_mode": {
    "name": "ipython",
    "version": 3
   },
   "file_extension": ".py",
   "mimetype": "text/x-python",
   "name": "python",
   "nbconvert_exporter": "python",
   "pygments_lexer": "ipython3",
   "version": "3.7.4"
  }
 },
 "nbformat": 4,
 "nbformat_minor": 2
}
