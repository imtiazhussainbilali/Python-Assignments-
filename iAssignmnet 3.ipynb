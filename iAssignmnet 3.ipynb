{
 "cells": [
  {
   "cell_type": "markdown",
   "metadata": {},
   "source": [
    "# 1: Make a calculator using Python with Addition, Subtraction, Multiplication, Division and Power"
   ]
  },
  {
   "cell_type": "code",
   "execution_count": 1,
   "metadata": {},
   "outputs": [
    {
     "name": "stdin",
     "output_type": "stream",
     "text": [
      "Enter 1st Value:  6\n",
      "Enter 2nd Value:  5\n"
     ]
    },
    {
     "name": "stdout",
     "output_type": "stream",
     "text": [
      "Enter 1 For Addition :\n",
      "Enter 2 For Subtraction :\n",
      "Enter 3 For Multiplication :\n",
      "Enter 4 For Division :\n",
      "Enter 5 For Power: \n"
     ]
    },
    {
     "name": "stdin",
     "output_type": "stream",
     "text": [
      "Enter your operation:  5\n"
     ]
    },
    {
     "name": "stdout",
     "output_type": "stream",
     "text": [
      "Answer : 7776\n"
     ]
    }
   ],
   "source": [
    "A=0\n",
    "Num_1 = int(input(\"Enter 1st Value: \"))\n",
    "Num_2 = int(input(\"Enter 2nd Value: \"))\n",
    "\n",
    "#Mathematical Operation Selection\n",
    "print(\"Enter 1 For Addition :\")\n",
    "print(\"Enter 2 For Subtraction :\")\n",
    "print(\"Enter 3 For Multiplication :\")\n",
    "print(\"Enter 4 For Division :\")\n",
    "print(\"Enter 5 For Power: \")\n",
    "operation = int(input(\"Enter your operation: \"))\n",
    "\n",
    "if operation == 1:\n",
    "    A = Num_1+Num_2\n",
    "elif operation == 2:\n",
    "    A = Num_1-Num_2\n",
    "elif operation == 3:\n",
    "    A = Num_1*Num_2\n",
    "elif operation == 4:\n",
    "    A = Num_1/Num_2\n",
    "elif operation == 5:\n",
    "    A = Num_1**Num_2\n",
    "    \n",
    "print(f\"Answer : {A}\")"
   ]
  },
  {
   "cell_type": "markdown",
   "metadata": {},
   "source": [
    "# 2. Write a program to check if there is any numeric value in list using for loop."
   ]
  },
  {
   "cell_type": "code",
   "execution_count": 2,
   "metadata": {},
   "outputs": [
    {
     "name": "stdout",
     "output_type": "stream",
     "text": [
      "Numeric value : 0\n"
     ]
    }
   ],
   "source": [
    "data = [\"Imtiaz\",  0, \"5\",\"Python\", \"Test\", 56]\n",
    "\n",
    "for num_value in data:\n",
    "    if type(num_value) == int or type(num_value) == float:\n",
    "        print(f\"Numeric value : {num_value}\")\n",
    "        break"
   ]
  },
  {
   "cell_type": "markdown",
   "metadata": {},
   "source": [
    "# 3. Write a python script to add a key to a dictionary."
   ]
  },
  {
   "cell_type": "code",
   "execution_count": 3,
   "metadata": {},
   "outputs": [
    {
     "name": "stdout",
     "output_type": "stream",
     "text": [
      "Key Add\n"
     ]
    }
   ],
   "source": [
    "Add = {}\n",
    "Add[1] = \"Key Add\"\n",
    "print(Add[1])"
   ]
  },
  {
   "cell_type": "markdown",
   "metadata": {},
   "source": [
    "# 4. Write a python program to add all the numeric value in dictionary."
   ]
  },
  {
   "cell_type": "code",
   "execution_count": 6,
   "metadata": {},
   "outputs": [
    {
     "name": "stdout",
     "output_type": "stream",
     "text": [
      "Total = 113\n"
     ]
    }
   ],
   "source": [
    "Answer = 0\n",
    "Dictonary = {1:1 ,  2:\"Python\",  3:7,  4:\"Variabler\",  5:5,  6:100}\n",
    "\n",
    "for Number in Dictonary.values():\n",
    "    if type(Number) == int or type(Number) == float:\n",
    "        Answer = Answer + Number        \n",
    "        \n",
    "print(f\"Total = {Answer}\")\n"
   ]
  },
  {
   "cell_type": "markdown",
   "metadata": {},
   "source": [
    "# 5. Write a program to identify duplicate values from list."
   ]
  },
  {
   "cell_type": "code",
   "execution_count": 7,
   "metadata": {},
   "outputs": [
    {
     "name": "stdout",
     "output_type": "stream",
     "text": [
      "Duplicated Python\n",
      "Duplicated Python\n",
      "Duplicated 0.07\n",
      "Duplicated 0.07\n",
      "Duplicated 11\n",
      "Duplicated Python\n",
      "Duplicated 11\n",
      "Duplicated Python\n"
     ]
    }
   ],
   "source": [
    "Data = [\"Python\", \"Python\", 0.07, 0.07, 11, \"Python\", 11, 2, 3, 9, \"Python\",  5, 6]\n",
    "for Value in Data:\n",
    "    if  Data.count(Value) > 1:\n",
    "        print(f\"Duplicated {Value}\")\n"
   ]
  },
  {
   "cell_type": "markdown",
   "metadata": {},
   "source": [
    "# 6. Write a python script to check if a given key already exists in a dictionary."
   ]
  },
  {
   "cell_type": "code",
   "execution_count": 8,
   "metadata": {},
   "outputs": [
    {
     "name": "stdout",
     "output_type": "stream",
     "text": [
      "4 Already Exists\n"
     ]
    }
   ],
   "source": [
    "Dictonary = { 1: \"Key1\", 2: \"Key2\", 3: \"Key3\", 4: \"Key4\"}\n",
    "\n",
    "Given_Key = 4\n",
    "\n",
    "for Key in Dictonary.keys():\n",
    "    if Key == Given_Key:\n",
    "        print(f\"{Given_Key} Already Exists\")\n"
   ]
  },
  {
   "cell_type": "code",
   "execution_count": null,
   "metadata": {},
   "outputs": [],
   "source": []
  }
 ],
 "metadata": {
  "kernelspec": {
   "display_name": "Python 3",
   "language": "python",
   "name": "python3"
  },
  "language_info": {
   "codemirror_mode": {
    "name": "ipython",
    "version": 3
   },
   "file_extension": ".py",
   "mimetype": "text/x-python",
   "name": "python",
   "nbconvert_exporter": "python",
   "pygments_lexer": "ipython3",
   "version": "3.7.4"
  }
 },
 "nbformat": 4,
 "nbformat_minor": 4
}
