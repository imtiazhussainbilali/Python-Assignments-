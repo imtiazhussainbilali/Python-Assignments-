{
 "cells": [
  {
   "cell_type": "markdown",
   "metadata": {},
   "source": [
    "# 1 : Write a program which takes 5 inputs from user for different subject’s marks, total it and generate mark sheet using grades ?    \n",
    "    "
   ]
  },
  {
   "cell_type": "code",
   "execution_count": 1,
   "metadata": {},
   "outputs": [
    {
     "name": "stdout",
     "output_type": "stream",
     "text": [
      "SYLANI MASS TRAINING COURSE MARKSHEET\n",
      "Enter Marks\n"
     ]
    },
    {
     "name": "stdin",
     "output_type": "stream",
     "text": [
      "Science 100 / 65\n",
      "Chemistry 100 / 81\n",
      "English 100 / 90\n",
      "Maths 100 / 52\n",
      "Urdu 100 / 69\n"
     ]
    },
    {
     "name": "stdout",
     "output_type": "stream",
     "text": [
      "******************* Marksheet *******************\n",
      " ________________________________________________\n",
      ":   Subject\t:  Total Marks\t: Obtained Marks :  \n",
      " ________________________________________________\n",
      ": Science \t:\t 100 \t:\t 65.0 \t:\n",
      ": Chemistry \t:\t 100 \t:\t 81.0 \t:\n",
      ": English \t:\t 100 \t:\t 90.0 \t:\n",
      ": Urdu \t\t:\t 100 \t:\t 69.0 \t:\n",
      ": Math \t\t:\t 100 \t:\t 52.0 \t:\n",
      " ________________________________________________\n",
      ": Total \t:\t 500 \t:\t 357.0 \t:\n",
      " ________________________________________________\n",
      ": Percentage \t: 71.39999999999999                            :\n",
      " ________________________________________________\n",
      ": Grade Obtained : B                           :\n",
      ": Remarks : Good                           :\n",
      "_________________________________________________\n"
     ]
    }
   ],
   "source": [
    "print(\"SYLANI MASS TRAINING COURSE MARKSHEET\")\n",
    "print(\"Enter Marks\")\n",
    "#SUBJECTS\n",
    "sci = float (input(\"Science 100 /\"))\n",
    "che = float (input(\"Chemistry 100 /\"))\n",
    "eng = float (input(\"English 100 /\"))\n",
    "mat = float (input(\"Maths 100 /\"))\n",
    "urd = float (input(\"Urdu 100 /\"))\n",
    "\n",
    "#Formula\n",
    "total = sci + che + eng + mat + urd \n",
    "                   \n",
    "per = (total/500)*100\n",
    "\n",
    "#Conditions\n",
    "if per >= 80 and per <= 100:\n",
    "    Grade = 'A'\n",
    "    Remarks = 'Execellent'\n",
    "elif per >= 70 and per <80:\n",
    "    Grade = 'B'\n",
    "    Remarks = 'Good'\n",
    "elif per >= 60 and per <80:\n",
    "    Grade = 'C'\n",
    "    Remarks = 'Fair'\n",
    "elif per >= 50 and per < 70:\n",
    "    Grade = 'D'\n",
    "    Remarks = 'Not Good'\n",
    "elif per < 50:\n",
    "    Grade = 'F'\n",
    "    Remarks = 'Fail'\n",
    "    \n",
    "print(\"******************* Marksheet *******************\")  \n",
    "\n",
    "print(\" ________________________________________________\")\n",
    "print(\":   Subject\\t:  Total Marks\\t: Obtained Marks :  \")\n",
    "print(\" ________________________________________________\")\n",
    "print(f\": Science \\t:\\t 100 \\t:\\t {sci} \\t:\")\n",
    "print(f\": Chemistry \\t:\\t 100 \\t:\\t {che} \\t:\")\n",
    "print(f\": English \\t:\\t 100 \\t:\\t {eng} \\t:\")\n",
    "print(f\": Urdu \\t\\t:\\t 100 \\t:\\t {urd} \\t:\")\n",
    "print(f\": Math \\t\\t:\\t 100 \\t:\\t {mat} \\t:\")\n",
    "print(\" ________________________________________________\")\n",
    "print(f\": Total \\t:\\t 500 \\t:\\t {total} \\t:\")\n",
    "print(\" ________________________________________________\")\n",
    "print(f\": Percentage \\t: {per}                            :\")\n",
    "print(\" ________________________________________________\")\n",
    "print(f\": Grade Obtained : {Grade}                           :\")\n",
    "print(f\": Remarks : {Remarks}                           :\")\n",
    "print(\"_________________________________________________\")\n"
   ]
  },
  {
   "cell_type": "markdown",
   "metadata": {},
   "source": [
    "# 2. Write a program to check if there is any numeric value in list using for loop."
   ]
  },
  {
   "cell_type": "code",
   "execution_count": null,
   "metadata": {},
   "outputs": [],
   "source": [
    "#Taking the input from the user\n",
    "x = int(input(\"Enter The You Want to Check : \"))\n",
    "\n",
    "#Conditioning\n",
    "if x%2 == 0:              #Mode=0 Then Even\n",
    "    print(\"This Number is Even\")\n",
    "    \n",
    "elif x%2 != 0:            #Mode is not equal to 0 then Odd\n",
    "    print(\"This Number is Odd\")"
   ]
  },
  {
   "cell_type": "markdown",
   "metadata": {},
   "source": [
    "# 3 : Write a program which print the length of the list?\n"
   ]
  },
  {
   "cell_type": "code",
   "execution_count": null,
   "metadata": {},
   "outputs": [],
   "source": [
    "data = [1, 1, 1, 1, 1, 1, 1, 1, 1, 1]\n",
    "print(len(data))"
   ]
  },
  {
   "cell_type": "markdown",
   "metadata": {},
   "source": [
    "# 4 : Write a Python program to sum all the numeric items in a list?"
   ]
  },
  {
   "cell_type": "code",
   "execution_count": null,
   "metadata": {},
   "outputs": [],
   "source": [
    "sum = 0\n",
    "x=0\n",
    "data = [1, 2, 1, 9, 6, 10]\n",
    "\n",
    "for x in data:\n",
    "    sum = sum + x\n",
    "print(\"Total Sum =\")\n",
    "print(sum)"
   ]
  },
  {
   "cell_type": "markdown",
   "metadata": {},
   "source": [
    "# 5 : Write a Python program to get the largest number from a numeric list."
   ]
  },
  {
   "cell_type": "code",
   "execution_count": 2,
   "metadata": {},
   "outputs": [
    {
     "data": {
      "text/plain": [
       "88"
      ]
     },
     "execution_count": 2,
     "metadata": {},
     "output_type": "execute_result"
    }
   ],
   "source": [
    "data = [10, 16, 88, -1, 72, -13, -21, 1, 0]\n",
    "max(data)"
   ]
  },
  {
   "cell_type": "markdown",
   "metadata": {},
   "source": [
    "# 6 : Take a list, say for example this one:\n",
    "# a = [1, 1, 2, 3, 5, 8, 13, 21, 34, 55, 89]\n",
    "# and write a program that prints out all the elements of the list that are less than 5."
   ]
  },
  {
   "cell_type": "code",
   "execution_count": 3,
   "metadata": {},
   "outputs": [
    {
     "name": "stdout",
     "output_type": "stream",
     "text": [
      "1\n",
      "1\n",
      "2\n",
      "3\n"
     ]
    }
   ],
   "source": [
    "data = [1, 1, 2, 3, 5, 8, 13, 21, 34, 55, 89]\n",
    "\n",
    "for x in data:\n",
    "     if x < 5:\n",
    "             print(x) "
   ]
  },
  {
   "cell_type": "code",
   "execution_count": null,
   "metadata": {},
   "outputs": [],
   "source": []
  }
 ],
 "metadata": {
  "kernelspec": {
   "display_name": "Python 3",
   "language": "python",
   "name": "python3"
  },
  "language_info": {
   "codemirror_mode": {
    "name": "ipython",
    "version": 3
   },
   "file_extension": ".py",
   "mimetype": "text/x-python",
   "name": "python",
   "nbconvert_exporter": "python",
   "pygments_lexer": "ipython3",
   "version": "3.7.4"
  }
 },
 "nbformat": 4,
 "nbformat_minor": 4
}
